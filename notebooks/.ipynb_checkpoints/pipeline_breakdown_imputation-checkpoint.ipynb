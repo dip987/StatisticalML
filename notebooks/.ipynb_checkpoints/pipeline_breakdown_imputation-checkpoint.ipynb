{
 "cells": [
  {
   "cell_type": "markdown",
   "metadata": {},
   "source": [
    "# Pipeline Breakdown: Imputing\n",
    "\n",
    "This notebook demonstrates how the the different parts of the missing data handler/imputing class works and how they come together.\n",
    "\n",
    "# Base Class\n",
    "Every imputer class must extend the MissingDataHandler class and implement its methods. We can have a different imputer per class and we can also easily swap them out for experimentation purposes. \n",
    "\n",
    "## Example\n",
    "The next few cells demostrate a few different missing data handler class as well as the data they collect about the dataset. For this demo, we will only be working on a single column/feature"
   ]
  },
  {
   "cell_type": "code",
   "execution_count": 1,
   "metadata": {},
   "outputs": [],
   "source": [
    "# Before Starting up anything, we need to add the folder containing all the source code to Jupyter Notebooks\n",
    "import sys\n",
    "import os\n",
    "\n",
    "module_path = os.path.abspath(os.path.join('..'))\n",
    "if module_path not in sys.path:\n",
    "    sys.path.append(module_path+\"\\\\project_code\")"
   ]
  },
  {
   "cell_type": "markdown",
   "metadata": {},
   "source": [
    "### ReplaceWithHighestFrequency\n",
    "\n",
    "One of the most simplest imputers. This scans the observable data for the most frequent categories and replaces missing data with the highest frequncy one. It also has a paramter to allow it to keep multiple topmost catergories or randomly a single one(In case of a tie)"
   ]
  },
  {
   "cell_type": "code",
   "execution_count": 6,
   "metadata": {},
   "outputs": [
    {
     "name": "stdout",
     "output_type": "stream",
     "text": [
      "The most frequent categories are : Drama\n"
     ]
    }
   ],
   "source": [
    "from exploration_helper_functions import *\n",
    "from missingdata import *\n",
    "\n",
    "data_path = Path(r'data/netflix_data.csv')\n",
    "df = load_data(data_path)\n",
    "g = df['Genre'].copy()\n",
    "imputer = ReplaceWithHighestFrequency(keep_all= True)\n",
    "imputer.process(g, fit_data=True)\n",
    "print(f'The most frequent categories are : {imputer.replace_value}')\n"
   ]
  },
  {
   "cell_type": "markdown",
   "metadata": {},
   "source": [
    "## Pipeline\n",
    "\n",
    "The DataImputer() class combines all of these modular classes and performs the transform() and fit() methods. This class contains a mapping with each columns name to a MissingDataHandler class and is responsible for calling the encode() on each of these modular parts. It also contains the default scheme(which is actually the best scheme as determined from trying out different combinations). If we do not pass a specific encoder for a specific column, the defualt one is used for that specific column. "
   ]
  },
  {
   "cell_type": "markdown",
   "metadata": {},
   "source": [
    "### Future Work\n",
    "\n",
    "The missing feature can be set as the resultant variable and the rest of the columns(including the original resultant variable) can then be treated as features. For this project however, due to the existence of multiple categories per entry and the large dimension of the data this is quite a difficult task. This is reserved as future works"
   ]
  }
 ],
 "metadata": {
  "kernelspec": {
   "display_name": "Python 3",
   "language": "python",
   "name": "python3"
  },
  "language_info": {
   "codemirror_mode": {
    "name": "ipython",
    "version": 3
   },
   "file_extension": ".py",
   "mimetype": "text/x-python",
   "name": "python",
   "nbconvert_exporter": "python",
   "pygments_lexer": "ipython3",
   "version": "3.8.5"
  }
 },
 "nbformat": 4,
 "nbformat_minor": 4
}
