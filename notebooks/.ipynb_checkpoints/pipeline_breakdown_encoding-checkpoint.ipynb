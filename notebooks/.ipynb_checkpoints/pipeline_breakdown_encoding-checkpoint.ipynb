{
 "cells": [
  {
   "cell_type": "markdown",
   "metadata": {},
   "source": [
    "# Pipeline Breakdown: Encoding\n",
    "\n",
    "This notebook demonstrates how the the different parts of the encoding class works and how they come together.\n",
    "\n",
    "# Base Class\n",
    "The dataset contains columns of various different data types. Consequently, they each require a different type of encoding. The encoding schemes should also be modular so we can swap and try out different encoding schemes on different columns. This is achieved by having a base encoding class with works more like an interface. Any encoding scheme must extends this class and implement the encode() method. Also these classes should be able to encode a new dataset by using the knowledge and embeddings from its previous encode() call. This is useful for the transform() call after doing a fit(). For such a case, a mapping is passed onto encoding() and the class must be able to to encode using only this map.\n",
    "\n",
    "## Example\n",
    "The next few cells demostrate a few different encoding class as well as the data they collect about the dataset. For this demo, we will only be working on a single column/feature"
   ]
  },
  {
   "cell_type": "code",
   "execution_count": 1,
   "metadata": {},
   "outputs": [],
   "source": [
    "# Before Starting up anything, we need to add the folder containing all the source code to Jupyter Notebooks\n",
    "import sys\n",
    "import os\n",
    "\n",
    "module_path = os.path.abspath(os.path.join('..'))\n",
    "if module_path not in sys.path:\n",
    "    sys.path.append(module_path+\"\\\\project_code\")"
   ]
  },
  {
   "cell_type": "markdown",
   "metadata": {},
   "source": [
    "### TargetPriorityNEncoder\n",
    "\n",
    "This encoder groups the target variable by each category and figures out the target mean for each category. Then it keeps the top-N categories with the highest target mean using multi-category encoding. "
   ]
  },
  {
   "cell_type": "code",
   "execution_count": 2,
   "metadata": {},
   "outputs": [],
   "source": [
    "from missingdata import DataImputer\n",
    "from exploration_helper_functions import *\n",
    "from encoding import *\n",
    "\n",
    "data_path = Path(r'data/netflix_data.csv')\n",
    "df = load_data(data_path)\n",
    "\n",
    "imputer = DataImputer()\n",
    "imputer.fit_transform(df)\n",
    "\n",
    "encoder = TargetPriorityNEncoding(n=20)\n",
    "g = df['Genre']\n",
    "y = df['IMDb Votes'].to_numpy()\n",
    "\n",
    "X = encoder.encode(g, target=y, update=True)"
   ]
  },
  {
   "cell_type": "code",
   "execution_count": 4,
   "metadata": {},
   "outputs": [
    {
     "name": "stdout",
     "output_type": "stream",
     "text": [
      "Since we are keeping the top-20 categories the shape of the encoded vector X is (13379, 20)\n"
     ]
    }
   ],
   "source": [
    "print(f\"Since we are keeping the top-20 categories the shape of the encoded vector X is {X.shape}\")"
   ]
  },
  {
   "cell_type": "markdown",
   "metadata": {},
   "source": [
    "The encoder also stores these categories. They are shown below(in an increasing order i.e. the last category has the highest target mean)"
   ]
  },
  {
   "cell_type": "code",
   "execution_count": 8,
   "metadata": {},
   "outputs": [
    {
     "data": {
      "image/png": "[encoded data removed]",
      "text/plain": [
       "<Figure size 432x288 with 1 Axes>"
      ]
     },
     "metadata": {
      "needs_background": "light"
     },
     "output_type": "display_data"
    }
   ],
   "source": [
    "import matplotlib.pyplot as plt\n",
    "\n",
    "plt.plot(encoder.category_names, encoder.target_means)\n",
    "plt.xlabel(\"Genres\")\n",
    "plt.ylabel(\"Reach\")\n",
    "plt.title(\"Inner Workings of Encoders\")\n",
    "_ = plt.xticks(rotation='vertical')"
   ]
  },
  {
   "cell_type": "markdown",
   "metadata": {},
   "source": [
    "### DropColumn & DoNothing Encoding\n",
    "Often times it might be useful to drop a specific feature and calculate the performance. This done using the DropColumn Encoding. Similarly, the DoNothing passes the input column as it is to the output encoded vector"
   ]
  },
  {
   "cell_type": "markdown",
   "metadata": {},
   "source": [
    "### OneHot & KeepTopN Encoding\n",
    "\n",
    "This the common OneHot Encoding in for this dataset actually does a mult-category encoding since most of the entries in the dataset contain multiple categories under the same feature. Also there are an awful lot of categories and as a result it is not feasible to ise OneHot for every feature. Which is where KeepTopN comes in. This encoding keeps only the top N most frequent cotergories and drops the rest.\n",
    "\n",
    "The code below demonstrates the keepTopN encoding and prints out the most frequent category names it found"
   ]
  },
  {
   "cell_type": "code",
   "execution_count": 18,
   "metadata": {},
   "outputs": [
    {
     "name": "stdout",
     "output_type": "stream",
     "text": [
      "['unknown', 'Steven Spielberg', 'Johnnie To', 'Jing Wong', 'Jan Suter', 'Raúl Campos', 'Woody Allen', 'Ishirô Honda', 'Ridley Scott', 'Marcus Raboy', 'Pedro Almodóvar', 'Tsutomu Shibayama', 'Steven Soderbergh', 'Jay Karas', 'Clint Eastwood', 'Jay Roach', 'Tim Burton', 'Martin Scorsese', 'Ron Howard', 'Takashi Miike']\n"
     ]
    }
   ],
   "source": [
    "encoder = KeepTopN(N=20)\n",
    "g = df['Director']\n",
    "y = df['IMDb Votes'].to_numpy()\n",
    "\n",
    "X = encoder.encode(g, target=y, update=True)\n",
    "encoder.category_names.reverse()\n",
    "print(encoder.category_names)"
   ]
  },
  {
   "cell_type": "markdown",
   "metadata": {},
   "source": [
    "Special Note: The 'unknown' here actually refers to missing data. Since each director actually has a very small number of films and compared to that the encoder determined that there are more missing entries. These missing entries are actually encoded as the 0 class. "
   ]
  },
  {
   "cell_type": "markdown",
   "metadata": {},
   "source": [
    "## Pipeline\n",
    "\n",
    "The DataEncoder() class combines all of these modular classes and performs the transform() and fit() methods. This class contains a mapping with each columns name to a BaseEncoding class and is responsible for calling the encode() on each of these modular parts. It also contains the default scheme(which is actually the best scheme as determined from trying out different combinations). If we do not pass a specific encoder for a specific column, the defualt one is used for that specific column. "
   ]
  }
 ],
 "metadata": {
  "kernelspec": {
   "display_name": "Python 3",
   "language": "python",
   "name": "python3"
  },
  "language_info": {
   "codemirror_mode": {
    "name": "ipython",
    "version": 3
   },
   "file_extension": ".py",
   "mimetype": "text/x-python",
   "name": "python",
   "nbconvert_exporter": "python",
   "pygments_lexer": "ipython3",
   "version": "3.8.5"
  }
 },
 "nbformat": 4,
 "nbformat_minor": 4
}
